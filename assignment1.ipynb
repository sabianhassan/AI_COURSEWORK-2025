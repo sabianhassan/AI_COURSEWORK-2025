{
 "cells": [
  {
   "cell_type": "code",
   "execution_count": 1,
   "id": "f119bed1",
   "metadata": {},
   "outputs": [
    {
     "name": "stdout",
     "output_type": "stream",
     "text": [
      "4days is equal to 345600seconds.\n"
     ]
    }
   ],
   "source": [
    "#Question 1 number of seconds in given days\n",
    "days = int(input(\"Enter nmber of days:\"))\n",
    "seconds = days * 24 * 60 * 60\n",
    "print(f\"{days}days is equal to {seconds}seconds.\")\n"
   ]
  },
  {
   "cell_type": "code",
   "execution_count": 2,
   "id": "1ebdc384",
   "metadata": {},
   "outputs": [
    {
     "name": "stdout",
     "output_type": "stream",
     "text": [
      "The volume of the sphere is 1150.35\n"
     ]
    }
   ],
   "source": [
    "#Volume of a sphere\n",
    "import math\n",
    "radius = float(input(\"Enter the radius of the sphere:\"))\n",
    "volume = (4/3) * math . pi * (radius ** 3)\n",
    "print(f\"The volume of the sphere is {volume:.2f}\")\n"
   ]
  }
 ],
 "metadata": {
  "kernelspec": {
   "display_name": "Python 3",
   "language": "python",
   "name": "python3"
  },
  "language_info": {
   "codemirror_mode": {
    "name": "ipython",
    "version": 3
   },
   "file_extension": ".py",
   "mimetype": "text/x-python",
   "name": "python",
   "nbconvert_exporter": "python",
   "pygments_lexer": "ipython3",
   "version": "3.13.4"
  }
 },
 "nbformat": 4,
 "nbformat_minor": 5
}
