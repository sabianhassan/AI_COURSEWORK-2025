{
 "cells": [
  {
   "cell_type": "code",
   "execution_count": 1,
   "id": "f119bed1",
   "metadata": {},
   "outputs": [
    {
     "name": "stdout",
     "output_type": "stream",
     "text": [
      "4days is equal to 345600seconds.\n"
     ]
    }
   ],
   "source": [
    "#Question 1 number of seconds in given days\n",
    "days = int(input(\"Enter nmber of days:\"))\n",
    "seconds = days * 24 * 60 * 60\n",
    "print(f\"{days}days is equal to {seconds}seconds.\")\n"
   ]
  },
  {
   "cell_type": "code",
   "execution_count": 2,
   "id": "1ebdc384",
   "metadata": {},
   "outputs": [
    {
     "name": "stdout",
     "output_type": "stream",
     "text": [
      "The volume of the sphere is 1150.35\n"
     ]
    }
   ],
   "source": [
    "#Volume of a sphere\n",
    "import math\n",
    "radius = float(input(\"Enter the radius of the sphere:\"))\n",
    "volume = (4/3) * math . pi * (radius ** 3)\n",
    "print(f\"The volume of the sphere is {volume:.2f}\")\n"
   ]
  },
  {
   "cell_type": "code",
   "execution_count": 3,
   "id": "0748969f",
   "metadata": {},
   "outputs": [
    {
     "name": "stdout",
     "output_type": "stream",
     "text": [
      "Area: 64.0\n",
      "Perimeter: 32.0\n"
     ]
    }
   ],
   "source": [
    "#Area and parameter of a square\n",
    "def area(side):\n",
    "    return side * side\n",
    "\n",
    "def perimeter(side):\n",
    "    return 4 * side\n",
    "side_length = float(input(\"Enter side length of the squaree:\"))\n",
    "print(f\"Area: {area(side_length)}\")\n",
    "print(f\"Perimeter: {perimeter(side_length)}\")"
   ]
  },
  {
   "cell_type": "code",
   "execution_count": 8,
   "id": "cf701ed4",
   "metadata": {},
   "outputs": [
    {
     "name": "stdout",
     "output_type": "stream",
     "text": [
      "Uppercase\n"
     ]
    }
   ],
   "source": [
    "#function to check character input to be either uppercase or lowercase\n",
    "def check_case(char):\n",
    "    if char.isupper():\n",
    "        return \"Uppercase\"\n",
    "    elif char.islower():\n",
    "        return \"Lowercase\"\n",
    "    else:\n",
    "        return \"Not a letter\"\n",
    "\n",
    "char = input(\"Enter a character:\")\n",
    "print(check_case(char))\n"
   ]
  },
  {
   "cell_type": "code",
   "execution_count": 6,
   "id": "d1e91c13",
   "metadata": {},
   "outputs": [
    {
     "name": "stdout",
     "output_type": "stream",
     "text": [
      "Final value of x: 1.0416666666666665\n"
     ]
    }
   ],
   "source": [
    "#Question 5\n",
    "x = 0\n",
    "y = 20\n",
    "while y >= 6:\n",
    "    y -= 4\n",
    "    x += 2/y\n",
    "print(f\"Final value of x: {x}\")\n"
   ]
  },
  {
   "cell_type": "code",
   "execution_count": 9,
   "id": "93b044d7",
   "metadata": {},
   "outputs": [
    {
     "name": "stdout",
     "output_type": "stream",
     "text": [
      "The average of the entered values is 48.00\n",
      "The average of the entered values is 40.00\n",
      "The average of the entered values is 28.00\n",
      "The average of the entered values is 22.50\n",
      "The average of the entered values is 34.80\n"
     ]
    }
   ],
   "source": [
    "#Question 6\n",
    "values = []\n",
    "\n",
    "for i in range(5):\n",
    "    num = float(input(f\"Enter value {i+1}:\"))\n",
    "    values.append(num)\n",
    "\n",
    "    average= sum(values)/len(values)\n",
    "    print(f\"The average of the entered values is {average:.2f}\")\n",
    "    "
   ]
  }
 ],
 "metadata": {
  "kernelspec": {
   "display_name": "Python 3",
   "language": "python",
   "name": "python3"
  },
  "language_info": {
   "codemirror_mode": {
    "name": "ipython",
    "version": 3
   },
   "file_extension": ".py",
   "mimetype": "text/x-python",
   "name": "python",
   "nbconvert_exporter": "python",
   "pygments_lexer": "ipython3",
   "version": "3.13.4"
  }
 },
 "nbformat": 4,
 "nbformat_minor": 5
}
